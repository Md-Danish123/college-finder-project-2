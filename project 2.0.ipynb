{
 "cells": [
  {
   "cell_type": "code",
   "execution_count": null,
   "id": "f7fd23ba",
   "metadata": {},
   "outputs": [],
   "source": [
    "Rock, Paper & Scissors"
   ]
  },
  {
   "cell_type": "code",
   "execution_count": 3,
   "id": "1266d643",
   "metadata": {},
   "outputs": [
    {
     "name": "stdout",
     "output_type": "stream",
     "text": [
      "Choose among r/p/s [rock/paper/scissors] : \n",
      "s\n",
      "Choose among r/p/s [rock/paper/scissors] : \n",
      "s\n",
      "\n",
      "Player_1 choose s and Player_2 choose s.\n",
      "\n",
      "That's a tie!\n"
     ]
    }
   ],
   "source": [
    "\n",
    "\n",
    "player_1 = str(input(\"Choose among r/p/s [rock/paper/scissors] : \\n\"))\n",
    "player_2 = str(input(\"Choose among r/p/s [rock/paper/scissors] : \\n\"))\n",
    "\n",
    "# for Rock\n",
    "if (player_1=='r') and (player_2=='r'):\n",
    "    print(\"\\nPlayer_1 choose {opt1} and Player_2 choose {opt2}.\".format(opt1=player_1,opt2=player_2))\n",
    "    print(\"\\nThat's a tie!\")\n",
    "elif (player_1=='r') and (player_2=='p'):\n",
    "    print(\"\\nPlayer_1 choose {opt1} and Player_2 choose {opt2}.\".format(opt1=player_1,opt2=player_2))\n",
    "    print(\"\\nPlayer_2 has won the game!\")\n",
    "elif (player_1=='r') and (player_2=='s'):\n",
    "    print(\"\\nPlayer_1 choose {opt1} and Player_2 choose {opt2}.\".format(opt1=player_1,opt2=player_2))\n",
    "    print(\"\\nPlayer_1 has won the game!\") \n",
    "    \n",
    "# for Paper\n",
    "elif (player_1=='p') and (player_2=='p'):\n",
    "    print(\"\\nPlayer_1 choose {opt1} and Player_2 choose {opt2}.\".format(opt1=player_1,opt2=player_2))\n",
    "    print(\"\\nThat's a tie!\")\n",
    "elif (player_1=='p') and (player_2=='s'):\n",
    "    print(\"\\nPlayer_1 choose {opt1} and Player_2 choose {opt2}.\".format(opt1=player_1,opt2=player_2))\n",
    "    print(\"\\nPlayer_2 has won the game!\")\n",
    "elif (player_1=='p') and (player_2=='r'):\n",
    "    print(\"\\nPlayer_1 choose {opt1} and Player_2 choose {opt2}.\".format(opt1=player_1,opt2=player_2))\n",
    "    print(\"\\nPlayer_1 has won the game!\") \n",
    "    \n",
    "# for scissors\n",
    "elif (player_1=='s') and (player_2=='s'):\n",
    "    print(\"\\nPlayer_1 choose {opt1} and Player_2 choose {opt2}.\".format(opt1=player_1,opt2=player_2))\n",
    "    print(\"\\nThat's a tie!\")\n",
    "elif (player_1=='s') and (player_2=='r'):\n",
    "    print(\"\\nPlayer_1 choose {opt1} and Player_2 choose {opt2}.\".format(opt1=player_1,opt2=player_2))\n",
    "    print(\"\\nPlayer_2 has won the game!\")\n",
    "elif (player_1=='s') and (player_2=='p'):\n",
    "    print(\"\\nPlayer_1 choose {opt1} and Player_2 choose {opt2}.\".format(opt1=player_1,opt2=player_2))\n",
    "    print(\"\\nPlayer_1 has won the game!\")\n",
    "    \n",
    "# for error\n",
    "else:\n",
    "    print(\"\\n!!! ERROR !!!\\nChoose correct option.\")\n",
    "\n",
    " "
   ]
  },
  {
   "cell_type": "code",
   "execution_count": null,
   "id": "e8939124",
   "metadata": {},
   "outputs": [],
   "source": []
  }
 ],
 "metadata": {
  "kernelspec": {
   "display_name": "Python 3 (ipykernel)",
   "language": "python",
   "name": "python3"
  },
  "language_info": {
   "codemirror_mode": {
    "name": "ipython",
    "version": 3
   },
   "file_extension": ".py",
   "mimetype": "text/x-python",
   "name": "python",
   "nbconvert_exporter": "python",
   "pygments_lexer": "ipython3",
   "version": "3.9.7"
  }
 },
 "nbformat": 4,
 "nbformat_minor": 5
}
